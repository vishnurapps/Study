{
  "nbformat": 4,
  "nbformat_minor": 0,
  "metadata": {
    "colab": {
      "name": "dileep.teja3@gmail.com_6.ipynb",
      "provenance": [],
      "include_colab_link": true
    },
    "kernelspec": {
      "display_name": "Python 3",
      "language": "python",
      "name": "python3"
    },
    "language_info": {
      "codemirror_mode": {
        "name": "ipython",
        "version": 3
      },
      "file_extension": ".py",
      "mimetype": "text/x-python",
      "name": "python",
      "nbconvert_exporter": "python",
      "pygments_lexer": "ipython3",
      "version": "3.7.2"
    }
  },
  "cells": [
    {
      "cell_type": "markdown",
      "metadata": {
        "id": "view-in-github",
        "colab_type": "text"
      },
      "source": [
        "<a href=\"https://colab.research.google.com/github/vishnurapps/Study/blob/master/dileep_teja3_gmail_com_6.ipynb\" target=\"_parent\"><img src=\"https://colab.research.google.com/assets/colab-badge.svg\" alt=\"Open In Colab\"/></a>"
      ]
    },
    {
      "cell_type": "code",
      "metadata": {
        "id": "ChRIzwLveIWl",
        "colab_type": "code",
        "colab": {}
      },
      "source": [
        "import warnings\n",
        "warnings.filterwarnings(\"ignore\")\n",
        "from sklearn.datasets import load_boston\n",
        "from random import seed\n",
        "from random import randrange\n",
        "from csv import reader\n",
        "from math import sqrt\n",
        "from sklearn import preprocessing\n",
        "import pandas as pd\n",
        "import numpy as np\n",
        "import matplotlib.pyplot as plt\n",
        "from prettytable import PrettyTable\n",
        "from sklearn.linear_model import SGDRegressor\n",
        "from sklearn import preprocessing\n",
        "from sklearn.metrics import mean_squared_error\n",
        "from sklearn.preprocessing import StandardScaler\n",
        "from sklearn import linear_model\n",
        "import seaborn as sns\n",
        "from sklearn.model_selection import train_test_split\n",
        "from numpy import c_"
      ],
      "execution_count": 0,
      "outputs": []
    },
    {
      "cell_type": "code",
      "metadata": {
        "id": "6BJg1nGXeIWr",
        "colab_type": "code",
        "colab": {}
      },
      "source": [
        "dataset = load_boston()\n",
        "X = pd.DataFrame(dataset.data)\n",
        "y = dataset.target"
      ],
      "execution_count": 0,
      "outputs": []
    },
    {
      "cell_type": "code",
      "metadata": {
        "id": "TTZhvtzZeIWy",
        "colab_type": "code",
        "colab": {}
      },
      "source": [
        "X_tr, X_te, Y_train, Y_test = train_test_split(X, y, test_size = 0.33, random_state = 1)"
      ],
      "execution_count": 0,
      "outputs": []
    },
    {
      "cell_type": "code",
      "metadata": {
        "id": "NlR7AYtzeIW4",
        "colab_type": "code",
        "colab": {}
      },
      "source": [
        "# Standardize the data\n",
        "sc = StandardScaler()\n",
        "X_train = sc.fit_transform(X_tr)\n",
        "X_test = sc.transform(X_te)"
      ],
      "execution_count": 0,
      "outputs": []
    },
    {
      "cell_type": "code",
      "metadata": {
        "id": "YN4pP9WHeIW-",
        "colab_type": "code",
        "colab": {
          "base_uri": "https://localhost:8080/",
          "height": 50
        },
        "outputId": "387c527e-0d22-4034-d18a-178ef5ae5763"
      },
      "source": [
        "print(X_train.shape)\n",
        "print(X_test.shape)"
      ],
      "execution_count": 5,
      "outputs": [
        {
          "output_type": "stream",
          "text": [
            "(339, 13)\n",
            "(167, 13)\n"
          ],
          "name": "stdout"
        }
      ]
    },
    {
      "cell_type": "code",
      "metadata": {
        "id": "BYCSB3XGg67K",
        "colab_type": "code",
        "colab": {
          "base_uri": "https://localhost:8080/",
          "height": 33
        },
        "outputId": "9ba8c111-018d-4598-95fc-ded44257e2aa"
      },
      "source": [
        "X_train.shape[0]"
      ],
      "execution_count": 6,
      "outputs": [
        {
          "output_type": "execute_result",
          "data": {
            "text/plain": [
              "339"
            ]
          },
          "metadata": {
            "tags": []
          },
          "execution_count": 6
        }
      ]
    },
    {
      "cell_type": "markdown",
      "metadata": {
        "id": "lfyyHFcteIXE",
        "colab_type": "text"
      },
      "source": [
        "## SGD Implementation of our own:"
      ]
    },
    {
      "cell_type": "code",
      "metadata": {
        "colab_type": "code",
        "id": "z9nZ24mPjK8b",
        "colab": {}
      },
      "source": [
        "from math import log\n",
        "xTrain,xTest,yTrain,yTest=train_test_split(X_train,Y_train,test_size=0.3)\n",
        "xTrain,xCv,yTrain,yCv=train_test_split(xTrain,yTrain,test_size=0.3)\n",
        "# xTrain = scaler.transform(xTrain)\n",
        "# xCv=scaler.transform(xCv)\n",
        "# X_te = np.c_[np.ones((len(X_test),1)),X_test]\n",
        "# X_test = X_te\n",
        "# X_te = np.c_[np.ones((len(X_test),1)),X_test]\n",
        "# X_test = X_te\n",
        "\n",
        "def tuneParams_learning_rate():\n",
        "  train_error=[]\n",
        "  cv_error=[]\n",
        "  r=[0.00001,0.0001,0.001,0.01,0.1]\n",
        "  for itr in r:\n",
        "    w = customSGD(xTrain, yTrain, iterations = 1000, learning_rate = itr)\n",
        "    X_te = np.c_[np.ones((len(xTrain),1)),xTrain]\n",
        "    xTrain1 = X_te\n",
        "    yPred_train=xTrain1.dot(w)\n",
        "    train_error.append(mean_squared_error(yTrain,yPred_train))\n",
        "    w = customSGD(xCv, yCv, iterations = 1000, learning_rate = itr)\n",
        "    X_te = np.c_[np.ones((len(xCv),1)),xCv]\n",
        "    xCv1 = X_te\n",
        "    yPred_cv=xCv1.dot(w)\n",
        "    cv_error.append(mean_squared_error(yCv,yPred_cv))\n",
        "  return train_error,cv_error"
      ],
      "execution_count": 0,
      "outputs": []
    },
    {
      "cell_type": "code",
      "metadata": {
        "id": "K6kdus4qeIXG",
        "colab_type": "code",
        "colab": {}
      },
      "source": [
        "\n",
        "# iterations = 1000\n",
        "# learning_rate = 0.01\n",
        "# length = 339\n",
        "# # print(length)\n",
        "def customSGD(X_train, Y_train, iterations, learning_rate):\n",
        "  length = X_train.shape[0]\n",
        "  X_tr = np.c_[np.ones((len(X_train),1)),X_train]\n",
        "  X_train = X_tr\n",
        "\n",
        "  weights = np.random.normal(0,1,X_train.shape[1])\n",
        "  weights = np.c_[weights]\n",
        "  # weights = weights.reshape(1,13)\n",
        "\n",
        "  for k in range(iterations):\n",
        "      for i in range(length):\n",
        "          rand_size = np.random.randint(0,length)\n",
        "\n",
        "          X_bat_size = X_train[rand_size,:].reshape(1,X_train.shape[1])\n",
        "          y_bat_size = Y_train[rand_size].reshape(1,1)\n",
        "\n",
        "          prediction = np.dot(X_bat_size,weights)\n",
        "          weights = weights -(2/length)*learning_rate*( X_bat_size.T.dot((prediction - y_bat_size)))\n",
        "      #preds = X_test.dot(weights)\n",
        "      #Mse_cust = mean_squared_error(Y_test, preds)\n",
        "      # print(\"Mean Squared Error (MSE) = \",Mse_cust)\n",
        "  return weights\n",
        "# print(X_bat_size.shape)\n",
        "# print(y_bat_size.shape)"
      ],
      "execution_count": 0,
      "outputs": []
    },
    {
      "cell_type": "code",
      "metadata": {
        "id": "Wo_3mFLnkFgR",
        "colab_type": "code",
        "colab": {}
      },
      "source": [
        "train_error,cv_error=tuneParams_learning_rate()"
      ],
      "execution_count": 0,
      "outputs": []
    },
    {
      "cell_type": "code",
      "metadata": {
        "id": "bf-ipUusj6l1",
        "colab_type": "code",
        "colab": {
          "base_uri": "https://localhost:8080/",
          "height": 294
        },
        "outputId": "bd090a22-7633-4366-f6da-1683437850f8"
      },
      "source": [
        "# plotting obtained values\n",
        "import math\n",
        "r=[0.00001,0.0001,0.001,0.01,0.1]\n",
        "x1=[math.log10(i) for i in r]\n",
        "plt.plot(x1,train_error,label='train MSE')\n",
        "plt.plot(x1,cv_error,label='CV MSE')\n",
        "plt.scatter(x1,train_error)\n",
        "plt.scatter(x1,cv_error)\n",
        "plt.legend()\n",
        "plt.xlabel('log of learning rate')\n",
        "plt.ylabel('Mean Squared Error')\n",
        "plt.title('log(learning rate) vs MSE')\n",
        "plt.grid()\n",
        "plt.show()"
      ],
      "execution_count": 15,
      "outputs": [
        {
          "output_type": "display_data",
          "data": {
            "image/png": "[encoded data removed]",
            "text/plain": [
              "<Figure size 432x288 with 1 Axes>"
            ]
          },
          "metadata": {
            "tags": []
          }
        }
      ]
    },
    {
      "cell_type": "markdown",
      "metadata": {
        "id": "QJQBB2UheIXT",
        "colab_type": "text"
      },
      "source": [
        "### Now we'll test the obtained weight vector on test data"
      ]
    },
    {
      "cell_type": "code",
      "metadata": {
        "id": "acKcm675eIXU",
        "colab_type": "code",
        "colab": {}
      },
      "source": [
        "preds = X_test.dot(weights)"
      ],
      "execution_count": 0,
      "outputs": []
    },
    {
      "cell_type": "code",
      "metadata": {
        "id": "9rpvaHfLeIXa",
        "colab_type": "code",
        "colab": {}
      },
      "source": [
        "plt.scatter(Y_test, preds)\n",
        "plt.xlabel(\"Actual\",size=20)\n",
        "plt.ylabel(\"Predicted\",size=20)\n",
        "plt.title(\"Actual vs Predicted\",size=30)\n",
        "plt.grid()\n",
        "plt.show()"
      ],
      "execution_count": 0,
      "outputs": []
    },
    {
      "cell_type": "code",
      "metadata": {
        "id": "-7Donpv3eIXh",
        "colab_type": "code",
        "colab": {}
      },
      "source": [
        "Mse_cust = mean_squared_error(Y_test, preds)\n",
        "print(\"Mean Squared Error (MSE) = \",Mse_cust)\n"
      ],
      "execution_count": 0,
      "outputs": []
    },
    {
      "cell_type": "markdown",
      "metadata": {
        "id": "PvmbCNYeeIXm",
        "colab_type": "text"
      },
      "source": [
        "## SGD Implementation of our SKlearn:"
      ]
    },
    {
      "cell_type": "code",
      "metadata": {
        "id": "uBmBblJDeIXo",
        "colab_type": "code",
        "colab": {}
      },
      "source": [
        "model = SGDRegressor(penalty='none', max_iter=1000, learning_rate='constant')\n",
        "model.fit(X_train,Y_train)\n",
        "sklearn_preds = model.predict(X_test)"
      ],
      "execution_count": 0,
      "outputs": []
    },
    {
      "cell_type": "code",
      "metadata": {
        "id": "XhaZkmfUeIXv",
        "colab_type": "code",
        "colab": {}
      },
      "source": [
        "sklearn_weights = model.coef_\n",
        "sklearn_weights"
      ],
      "execution_count": 0,
      "outputs": []
    },
    {
      "cell_type": "code",
      "metadata": {
        "id": "flsBL_GgeIX0",
        "colab_type": "code",
        "colab": {}
      },
      "source": [
        "plt.scatter(Y_test, sklearn_preds)\n",
        "plt.xlabel(\"Actual\",size=20)\n",
        "plt.ylabel(\"Predicted\",size=20)\n",
        "plt.title(\"Actual vs Predicted\",size=30)\n",
        "plt.grid()\n",
        "plt.show()"
      ],
      "execution_count": 0,
      "outputs": []
    },
    {
      "cell_type": "code",
      "metadata": {
        "id": "SMGQ4ZcGeIX5",
        "colab_type": "code",
        "colab": {}
      },
      "source": [
        "Mse_sk = mean_squared_error(Y_test, sklearn_preds)\n",
        "print(\"Mean Squared Error (MSE) = \",Mse_sk)"
      ],
      "execution_count": 0,
      "outputs": []
    },
    {
      "cell_type": "code",
      "metadata": {
        "id": "dXhbaTmYeIX_",
        "colab_type": "code",
        "colab": {}
      },
      "source": [
        ""
      ],
      "execution_count": 0,
      "outputs": []
    },
    {
      "cell_type": "markdown",
      "metadata": {
        "id": "zz4gnFNveIYE",
        "colab_type": "text"
      },
      "source": [
        "## Comparing both the models"
      ]
    },
    {
      "cell_type": "code",
      "metadata": {
        "id": "1QBTd1i5eIYG",
        "colab_type": "code",
        "colab": {}
      },
      "source": [
        "from prettytable import PrettyTable\n",
        "table = PrettyTable()\n",
        "no = [1,2,3,4,5,6,7,8,9,10,11,12,13,14]\n",
        "table.add_column(\"NO.\",no)\n",
        "table.add_column(\"Weights of our SGD\",weights)\n",
        "table.add_column(\"Weights of Sklear SGD\",sklearn_weights)\n",
        "print(table)"
      ],
      "execution_count": 0,
      "outputs": []
    },
    {
      "cell_type": "code",
      "metadata": {
        "id": "qcUmGhooeIYM",
        "colab_type": "code",
        "colab": {}
      },
      "source": [
        "from prettytable import PrettyTable\n",
        "\n",
        "table = PrettyTable()\n",
        "table.field_names = [\"SGD\",\"MSE\"]\n",
        "table.add_row([\"Custom SGD\",Mse_cust])\n",
        "table.add_row([\"Sklearn SGD\",Mse_sk])\n",
        "print(table)"
      ],
      "execution_count": 0,
      "outputs": []
    },
    {
      "cell_type": "code",
      "metadata": {
        "id": "dFgbKAUVeIYQ",
        "colab_type": "code",
        "colab": {}
      },
      "source": [
        ""
      ],
      "execution_count": 0,
      "outputs": []
    },
    {
      "cell_type": "code",
      "metadata": {
        "id": "XEYkjqt5eIYU",
        "colab_type": "code",
        "colab": {}
      },
      "source": [
        ""
      ],
      "execution_count": 0,
      "outputs": []
    }
  ]
}